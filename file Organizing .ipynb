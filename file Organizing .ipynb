{
 "cells": [
  {
   "cell_type": "markdown",
   "id": "61155436",
   "metadata": {},
   "source": [
    "File Organizing with Python\n"
   ]
  },
  {
   "cell_type": "markdown",
   "id": "238fd74a",
   "metadata": {},
   "source": [
    "---file Organizing----"
   ]
  },
  {
   "cell_type": "code",
   "execution_count": 37,
   "id": "41589690",
   "metadata": {},
   "outputs": [],
   "source": [
    "import os \n",
    "import shutil"
   ]
  },
  {
   "cell_type": "code",
   "execution_count": null,
   "id": "a032c2fe",
   "metadata": {},
   "outputs": [],
   "source": [
    "os.chdir('test')"
   ]
  },
  {
   "cell_type": "code",
   "execution_count": 35,
   "id": "f1cecdae",
   "metadata": {},
   "outputs": [],
   "source": [
    "os.mkdir('image')"
   ]
  },
  {
   "cell_type": "code",
   "execution_count": null,
   "id": "c924927f",
   "metadata": {},
   "outputs": [],
   "source": []
  },
  {
   "cell_type": "code",
   "execution_count": 36,
   "id": "b9661231",
   "metadata": {},
   "outputs": [
    {
     "name": "stdout",
     "output_type": "stream",
     "text": [
      "Elsevier_Article__elsarticle__Template.pdf\n",
      "test_AD.ipynb\n",
      "APP12AD-2.ipynb\n",
      "FC_.ipynb\n",
      "961257.pdf\n"
     ]
    }
   ],
   "source": [
    "for file in os.listdir('.'):\n",
    "    if file.endswith(('pdf','ipynb')):\n",
    "        print (file)\n",
    "        shutil.move(file,'image')\n",
    "        "
   ]
  }
 ],
 "metadata": {
  "kernelspec": {
   "display_name": "Python 3 (ipykernel)",
   "language": "python",
   "name": "python3"
  },
  "language_info": {
   "codemirror_mode": {
    "name": "ipython",
    "version": 3
   },
   "file_extension": ".py",
   "mimetype": "text/x-python",
   "name": "python",
   "nbconvert_exporter": "python",
   "pygments_lexer": "ipython3",
   "version": "3.9.12"
  }
 },
 "nbformat": 4,
 "nbformat_minor": 5
}
